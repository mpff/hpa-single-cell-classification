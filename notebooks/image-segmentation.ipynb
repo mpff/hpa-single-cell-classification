{
 "cells": [
  {
   "cell_type": "code",
   "execution_count": 1,
   "metadata": {},
   "outputs": [
    {
     "name": "stdout",
     "output_type": "stream",
     "text": [
      "Using device: cpu\n"
     ]
    }
   ],
   "source": [
    "import torch\n",
    "\n",
    "# Setting device on GPU if available, else CPU.\n",
    "device = torch.device('cuda' if torch.cuda.is_available() else 'cpu')\n",
    "print('Using device:', device)\n",
    "\n",
    "# Additional Info on devices, when using cuda.\n",
    "if device.type == 'cuda':\n",
    "    for i in range(torch.cuda.device_count()):\n",
    "        print()\n",
    "        print('Device ',i)\n",
    "        print(torch.cuda.get_device_name(i), round(torch.cuda.get_device_properties(i).total_memory/1024**3,1), 'GB')\n",
    "        print('Memory Usage:')\n",
    "        print('Allocated:  ', round(torch.cuda.memory_allocated(i)/1024**3,1), 'GB')\n",
    "        print('Reserved:   ', round(torch.cuda.memory_reserved(i)/1024**3,1), 'GB')"
   ]
  },
  {
   "cell_type": "code",
   "execution_count": 2,
   "metadata": {},
   "outputs": [],
   "source": [
    "import importlib\n",
    "import time\n",
    "import hpacellseg.cellsegmentator as cellsegmentator\n",
    "from src import utils"
   ]
  },
  {
   "cell_type": "code",
   "execution_count": 4,
   "metadata": {},
   "outputs": [],
   "source": [
    "NUC_MODEL = \"./segmentation/nuclei-model.pth\"\n",
    "CELL_MODEL = \"./segmentation/cell-model.pth\"\n",
    "\n",
    "segmentator = cellsegmentator.CellSegmentator(\n",
    "    NUC_MODEL,\n",
    "    CELL_MODEL,\n",
    "    scale_factor=0.25,\n",
    "    device=str(device),\n",
    "    padding=True,\n",
    "    multi_channel_model=True,\n",
    ")"
   ]
  },
  {
   "cell_type": "code",
   "execution_count": null,
   "metadata": {},
   "outputs": [],
   "source": [
    "def create_cell_segmentation_rles(csv_file, root_dir, segmentator,test=False,n_samples=None,n_workers=None):\n",
    "    \"\"\"Creates new maskwise test.csv.\"\"\"\n",
    "    if not n_workers: n_workers=num_cores\n",
    "    images_frame = pandas.read_csv(csv_file)\n",
    "    # Build image paths.\n",
    "    print(f\"Globbing {root_dir}.\")\n",
    "    fileiterator = glob.iglob(root_dir + '/' + '*_red.png')\n",
    "    if n_samples:\n",
    "        mt = [next(fileiterator) for i in range(n_samples)]\n",
    "        print(f\"Processing first {n_samples} images.\")\n",
    "    else:\n",
    "        mt = [f for f in fileiterator]\n",
    "        print(f\"Processing {len(mt)} images.\")\n",
    "    er = [f.replace('red', 'yellow') for f in mt]\n",
    "    nu = [f.replace('red', 'blue') for f in mt]\n",
    "    images = zip(mt, er, nu)\n",
    "    processed_list = Parallel(n_jobs=int(n_workers))(\n",
    "        delayed(segment_image)(i, segmentator, images_frame, test) for i in tqdm(images)\n",
    "    )\n",
    "    print(\"Finished.\")\n",
    "    cells = []\n",
    "    for l in processed_list:\n",
    "        cells += l\n",
    "    cells_frame = pandas.DataFrame(cells)\n",
    "    return cells_frame"
   ]
  },
  {
   "cell_type": "code",
   "execution_count": null,
   "metadata": {},
   "outputs": [],
   "source": [
    "def segment_image(image, segmentator, images_frame, test):\n",
    "    \"\"\" Returns list of cell masks. \"\"\"\n",
    "    mt, er, nu = image\n",
    "    # Run segmentation model. (Takes list of lists...)\n",
    "    nuc_segmentations = segmentator.pred_nuclei([nu])\n",
    "    cell_segmentations = segmentator.pred_cells([[mt],[er],[nu]])\n",
    "    # Get image ID and label. (hacky?)\n",
    "    image_id = os.path.basename(mt).split('.')[0].replace(\"_red\",\"\")\n",
    "    if test: \n",
    "        label = None\n",
    "    else:\n",
    "        print(image_id)\n",
    "        print(images_frame.Label[images_frame.ID == image_id])\n",
    "        label = images_frame.Label[images_frame.ID == image_id].values[0]\n",
    "    # Get cell masks and rle encode.\n",
    "    nuclei_mask, cell_mask = label_cell(nuc_segmentations[0], cell_segmentations[0])\n",
    "    id_shape = cell_mask.shape\n",
    "    cell_ids = numpy.unique(cell_mask)\n",
    "    cell_ids = cell_ids[1:]  # Drop background.\n",
    "    masks = [cell_mask == i for i in cell_ids]\n",
    "    # Prepare output.\n",
    "    cells = []\n",
    "    for mask in masks:\n",
    "        cell = {}\n",
    "        cell['ID'] = image_id\n",
    "        cell['ImageHeight'] = id_shape[0]\n",
    "        cell['ImageWidth'] = id_shape[1]\n",
    "        cell['Label'] = label\n",
    "        cell['touches_edge_btlr'] = touches_edge(mask)\n",
    "        cell['RLEmask'] = encode_binary_mask(mask)\n",
    "        cells.append(cell)\n",
    "    return cells"
   ]
  },
  {
   "cell_type": "code",
   "execution_count": null,
   "metadata": {},
   "outputs": [],
   "source": [
    "def encode_binary_mask(mask):\n",
    "    \"\"\"Converts a binary mask into OID challenge encoding ascii text.\"\"\"\n",
    "    # check input mask --\n",
    "    if mask.dtype != numpy.bool:\n",
    "        raise ValueError(\n",
    "            \"encode_binary_mask expects a binary mask, received dtype == %s\" %\n",
    "            mask.dtype)\n",
    "    mask = numpy.squeeze(mask)\n",
    "    if len(mask.shape) != 2:\n",
    "        raise ValueError(\n",
    "            \"encode_binary_mask expects a 2d mask, received shape == %s\" %\n",
    "            mask.shape)\n",
    "    # convert input mask to expected COCO API input --\n",
    "    mask_to_encode = mask.reshape(mask.shape[0], mask.shape[1], 1)\n",
    "    mask_to_encode = mask_to_encode.astype(numpy.uint8)\n",
    "    mask_to_encode = numpy.asfortranarray(mask_to_encode)\n",
    "    # RLE encode mask --\n",
    "    encoded_mask = coco_mask.encode(mask_to_encode)[0][\"counts\"]\n",
    "    # compress and base64 encoding --\n",
    "    binary_str = zlib.compress(encoded_mask, zlib.Z_BEST_COMPRESSION)\n",
    "    base64_str = base64.b64encode(binary_str)\n",
    "    return base64_str"
   ]
  },
  {
   "cell_type": "markdown",
   "metadata": {},
   "source": [
    "#### Create segmentation masks for test and train set. Save as csv."
   ]
  },
  {
   "cell_type": "code",
   "execution_count": null,
   "metadata": {},
   "outputs": [
    {
     "name": "stdout",
     "output_type": "stream",
     "text": [
      "Globbing data/test/.\n",
      "Processing first 24 images.\n"
     ]
    }
   ],
   "source": [
    "importlib.reload(utils)\n",
    "cells_frame = utils.create_cell_segmentation_rles(\n",
    "    csv_file=\"data/sample_submission.csv\",\n",
    "    root_dir=\"data/test/\",\n",
    "    segmentator=segmentator,\n",
    "    test=True,\n",
    "    n_samples=24,\n",
    "    n_workers=24    \n",
    ")\n",
    "timestr = time.strftime(\"%Y-%m-%d-%H%M%S\")\n",
    "cells_frame.to_csv(f\"data/test_cells_{timestr}.csv\", index=False)\n",
    "test_cells.head()"
   ]
  },
  {
   "cell_type": "code",
   "execution_count": null,
   "metadata": {},
   "outputs": [
    {
     "name": "stdout",
     "output_type": "stream",
     "text": [
      "Globbing data/train/.\n"
     ]
    }
   ],
   "source": [
    "importlib.reload(utils)\n",
    "train_cells = utils.create_cell_segmentation_rles(\n",
    "    csv_file=\"data/train.csv\",\n",
    "    root_dir=\"data/train/\",\n",
    "    segmentator=segmentator\n",
    ")\n",
    "timestr = time.strftime(\"%Y-%m-%d-%H%M%S\")\n",
    "train_cells.to_csv(f\"data/train_cells_{timestr}.csv\", index=False)\n",
    "train_cells.head()"
   ]
  },
  {
   "cell_type": "markdown",
   "metadata": {},
   "source": [
    "### Check Dataframes and save without index labels"
   ]
  },
  {
   "cell_type": "code",
   "execution_count": 12,
   "metadata": {},
   "outputs": [
    {
     "data": {
      "text/html": [
       "<div>\n",
       "<style scoped>\n",
       "    .dataframe tbody tr th:only-of-type {\n",
       "        vertical-align: middle;\n",
       "    }\n",
       "\n",
       "    .dataframe tbody tr th {\n",
       "        vertical-align: top;\n",
       "    }\n",
       "\n",
       "    .dataframe thead th {\n",
       "        text-align: right;\n",
       "    }\n",
       "</style>\n",
       "<table border=\"1\" class=\"dataframe\">\n",
       "  <thead>\n",
       "    <tr style=\"text-align: right;\">\n",
       "      <th></th>\n",
       "      <th>ID</th>\n",
       "      <th>ImageHeight</th>\n",
       "      <th>ImageWidth</th>\n",
       "      <th>Label</th>\n",
       "      <th>touches_edge_btlr</th>\n",
       "      <th>RLEmask</th>\n",
       "    </tr>\n",
       "  </thead>\n",
       "  <tbody>\n",
       "    <tr>\n",
       "      <th>0</th>\n",
       "      <td>72ca5902-b93c-4174-b335-bf193b534956</td>\n",
       "      <td>2048</td>\n",
       "      <td>2048</td>\n",
       "      <td>NaN</td>\n",
       "      <td>[True, False, True, False]</td>\n",
       "      <td>b'eNozyDIOyzE0wAv8DUHQwMDQ39gXXcbbFCaLCvyMIKKE...</td>\n",
       "    </tr>\n",
       "    <tr>\n",
       "      <th>1</th>\n",
       "      <td>72ca5902-b93c-4174-b335-bf193b534956</td>\n",
       "      <td>2048</td>\n",
       "      <td>2048</td>\n",
       "      <td>NaN</td>\n",
       "      <td>[True, False, False, False]</td>\n",
       "      <td>b'eNrNUcsKwkAM/KXMZn2B4EWw6m6yoogHEVs8lB7s/98k...</td>\n",
       "    </tr>\n",
       "    <tr>\n",
       "      <th>2</th>\n",
       "      <td>72ca5902-b93c-4174-b335-bf193b534956</td>\n",
       "      <td>2048</td>\n",
       "      <td>2048</td>\n",
       "      <td>NaN</td>\n",
       "      <td>[True, False, False, False]</td>\n",
       "      <td>b'eNpllOtyo0gMhV+p1eDNJJPKbjIzm2wwBxt8wVz6Athg...</td>\n",
       "    </tr>\n",
       "    <tr>\n",
       "      <th>3</th>\n",
       "      <td>72ca5902-b93c-4174-b335-bf193b534956</td>\n",
       "      <td>2048</td>\n",
       "      <td>2048</td>\n",
       "      <td>NaN</td>\n",
       "      <td>[True, False, False, False]</td>\n",
       "      <td>b'eNoLDUhKNTDMyTc08zb1NTAw9DfyM0ahQSwIDYHIbAgf...</td>\n",
       "    </tr>\n",
       "    <tr>\n",
       "      <th>4</th>\n",
       "      <td>72ca5902-b93c-4174-b335-bf193b534956</td>\n",
       "      <td>2048</td>\n",
       "      <td>2048</td>\n",
       "      <td>NaN</td>\n",
       "      <td>[True, False, False, False]</td>\n",
       "      <td>b'eNrdUlFPwyAQ/kv9CmuMJpolmiw4jkK6mrrsxW7GNsD+...</td>\n",
       "    </tr>\n",
       "  </tbody>\n",
       "</table>\n",
       "</div>"
      ],
      "text/plain": [
       "                                     ID  ImageHeight  ImageWidth  Label  \\\n",
       "0  72ca5902-b93c-4174-b335-bf193b534956         2048        2048    NaN   \n",
       "1  72ca5902-b93c-4174-b335-bf193b534956         2048        2048    NaN   \n",
       "2  72ca5902-b93c-4174-b335-bf193b534956         2048        2048    NaN   \n",
       "3  72ca5902-b93c-4174-b335-bf193b534956         2048        2048    NaN   \n",
       "4  72ca5902-b93c-4174-b335-bf193b534956         2048        2048    NaN   \n",
       "\n",
       "             touches_edge_btlr  \\\n",
       "0   [True, False, True, False]   \n",
       "1  [True, False, False, False]   \n",
       "2  [True, False, False, False]   \n",
       "3  [True, False, False, False]   \n",
       "4  [True, False, False, False]   \n",
       "\n",
       "                                             RLEmask  \n",
       "0  b'eNozyDIOyzE0wAv8DUHQwMDQ39gXXcbbFCaLCvyMIKKE...  \n",
       "1  b'eNrNUcsKwkAM/KXMZn2B4EWw6m6yoogHEVs8lB7s/98k...  \n",
       "2  b'eNpllOtyo0gMhV+p1eDNJJPKbjIzm2wwBxt8wVz6Athg...  \n",
       "3  b'eNoLDUhKNTDMyTc08zb1NTAw9DfyM0ahQSwIDYHIbAgf...  \n",
       "4  b'eNrdUlFPwyAQ/kv9CmuMJpolmiw4jkK6mrrsxW7GNsD+...  "
      ]
     },
     "execution_count": 12,
     "metadata": {},
     "output_type": "execute_result"
    }
   ],
   "source": [
    "test = pandas.read_csv(\"data/test_cells.csv\")\n",
    "test2 = test.drop(\"Unnamed: 0\", 1)\n",
    "test2.head()"
   ]
  },
  {
   "cell_type": "code",
   "execution_count": 22,
   "metadata": {},
   "outputs": [
    {
     "name": "stdout",
     "output_type": "stream",
     "text": [
      "491196\n"
     ]
    },
    {
     "data": {
      "text/html": [
       "<div>\n",
       "<style scoped>\n",
       "    .dataframe tbody tr th:only-of-type {\n",
       "        vertical-align: middle;\n",
       "    }\n",
       "\n",
       "    .dataframe tbody tr th {\n",
       "        vertical-align: top;\n",
       "    }\n",
       "\n",
       "    .dataframe thead th {\n",
       "        text-align: right;\n",
       "    }\n",
       "</style>\n",
       "<table border=\"1\" class=\"dataframe\">\n",
       "  <thead>\n",
       "    <tr style=\"text-align: right;\">\n",
       "      <th></th>\n",
       "      <th>ID</th>\n",
       "      <th>ImageHeight</th>\n",
       "      <th>ImageWidth</th>\n",
       "      <th>Label</th>\n",
       "      <th>touches_edge_btlr</th>\n",
       "      <th>RLEmask</th>\n",
       "    </tr>\n",
       "  </thead>\n",
       "  <tbody>\n",
       "    <tr>\n",
       "      <th>0</th>\n",
       "      <td>fc655b1a-bbc3-11e8-b2bc-ac1f6b6435d0</td>\n",
       "      <td>2048</td>\n",
       "      <td>2048</td>\n",
       "      <td>16|5</td>\n",
       "      <td>[False, False, False, False]</td>\n",
       "      <td>b'eNqNU8FuwyAM/SUbJ9l6mrZT0oK5VKq0qpetmqZe9v+3...</td>\n",
       "    </tr>\n",
       "    <tr>\n",
       "      <th>1</th>\n",
       "      <td>fc655b1a-bbc3-11e8-b2bc-ac1f6b6435d0</td>\n",
       "      <td>2048</td>\n",
       "      <td>2048</td>\n",
       "      <td>16|5</td>\n",
       "      <td>[False, False, False, False]</td>\n",
       "      <td>b'eNqVVGlz2jAQ/UtaX53Q5phOzEzBXuVDfGKDjG1mbIj5...</td>\n",
       "    </tr>\n",
       "    <tr>\n",
       "      <th>2</th>\n",
       "      <td>fc655b1a-bbc3-11e8-b2bc-ac1f6b6435d0</td>\n",
       "      <td>2048</td>\n",
       "      <td>2048</td>\n",
       "      <td>16|5</td>\n",
       "      <td>[False, False, False, False]</td>\n",
       "      <td>b'eNqVVNtOwzAM/SU7SbcJoT1MCJU2dSQGTNpFSGPA2B74...</td>\n",
       "    </tr>\n",
       "    <tr>\n",
       "      <th>3</th>\n",
       "      <td>fc655b1a-bbc3-11e8-b2bc-ac1f6b6435d0</td>\n",
       "      <td>2048</td>\n",
       "      <td>2048</td>\n",
       "      <td>16|5</td>\n",
       "      <td>[False, False, False, False]</td>\n",
       "      <td>b'eNp1VNt2qjAQ/aWZiNDVLm3rWVpbZaIWBQWCgMpFLv//...</td>\n",
       "    </tr>\n",
       "    <tr>\n",
       "      <th>4</th>\n",
       "      <td>fc655b1a-bbc3-11e8-b2bc-ac1f6b6435d0</td>\n",
       "      <td>2048</td>\n",
       "      <td>2048</td>\n",
       "      <td>16|5</td>\n",
       "      <td>[False, False, False, False]</td>\n",
       "      <td>b'eNqNVOt22jAMfiXJTgJll55th2ti+VAoUCgbhbaslK7v...</td>\n",
       "    </tr>\n",
       "  </tbody>\n",
       "</table>\n",
       "</div>"
      ],
      "text/plain": [
       "                                     ID  ImageHeight  ImageWidth Label  \\\n",
       "0  fc655b1a-bbc3-11e8-b2bc-ac1f6b6435d0         2048        2048  16|5   \n",
       "1  fc655b1a-bbc3-11e8-b2bc-ac1f6b6435d0         2048        2048  16|5   \n",
       "2  fc655b1a-bbc3-11e8-b2bc-ac1f6b6435d0         2048        2048  16|5   \n",
       "3  fc655b1a-bbc3-11e8-b2bc-ac1f6b6435d0         2048        2048  16|5   \n",
       "4  fc655b1a-bbc3-11e8-b2bc-ac1f6b6435d0         2048        2048  16|5   \n",
       "\n",
       "              touches_edge_btlr  \\\n",
       "0  [False, False, False, False]   \n",
       "1  [False, False, False, False]   \n",
       "2  [False, False, False, False]   \n",
       "3  [False, False, False, False]   \n",
       "4  [False, False, False, False]   \n",
       "\n",
       "                                             RLEmask  \n",
       "0  b'eNqNU8FuwyAM/SUbJ9l6mrZT0oK5VKq0qpetmqZe9v+3...  \n",
       "1  b'eNqVVGlz2jAQ/UtaX53Q5phOzEzBXuVDfGKDjG1mbIj5...  \n",
       "2  b'eNqVVNtOwzAM/SU7SbcJoT1MCJU2dSQGTNpFSGPA2B74...  \n",
       "3  b'eNp1VNt2qjAQ/aWZiNDVLm3rWVpbZaIWBQWCgMpFLv//...  \n",
       "4  b'eNqNVOt22jAMfiXJTgJll55th2ti+VAoUCgbhbaslK7v...  "
      ]
     },
     "execution_count": 22,
     "metadata": {},
     "output_type": "execute_result"
    }
   ],
   "source": [
    "train = pandas.read_csv(\"data/train_cells.csv\")\n",
    "train2 = train.drop(\"Unnamed: 0\", 1)\n",
    "print(len(train2))\n",
    "train2.head()"
   ]
  },
  {
   "cell_type": "code",
   "execution_count": 23,
   "metadata": {},
   "outputs": [],
   "source": [
    "train2.to_csv(\"data/train_cells.csv\", index=False)\n",
    "test2.to_csv(\"data/test_cells.csv\", index=False)"
   ]
  },
  {
   "cell_type": "markdown",
   "metadata": {},
   "source": [
    "### Create a 1/10th Validation set from train data."
   ]
  },
  {
   "cell_type": "code",
   "execution_count": 25,
   "metadata": {},
   "outputs": [
    {
     "data": {
      "text/plain": [
       "491196"
      ]
     },
     "execution_count": 25,
     "metadata": {},
     "output_type": "execute_result"
    }
   ],
   "source": [
    "len(train2)"
   ]
  },
  {
   "cell_type": "code",
   "execution_count": null,
   "metadata": {},
   "outputs": [],
   "source": []
  }
 ],
 "metadata": {
  "kernelspec": {
   "display_name": "hpa-cpu-env",
   "language": "python",
   "name": "hpa-cpu-env"
  },
  "language_info": {
   "codemirror_mode": {
    "name": "ipython",
    "version": 3
   },
   "file_extension": ".py",
   "mimetype": "text/x-python",
   "name": "python",
   "nbconvert_exporter": "python",
   "pygments_lexer": "ipython3",
   "version": "3.8.5"
  }
 },
 "nbformat": 4,
 "nbformat_minor": 4
}
