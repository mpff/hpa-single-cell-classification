{
 "cells": [
  {
   "cell_type": "markdown",
   "metadata": {},
   "source": [
    "# Outlier Detection\n",
    "\n",
    "The goal is to remove outlier cells from the ```hpacellseg``` output.\n",
    "\n",
    "Outliers on the training set:\n",
    "* (Shape) Cells where the minimum bounding rectangle has a (h,w) ratio outside of 95% of the data range.\n",
    "* (Shape) Cells that are very large compared to the image size or the other cells in the image. (?)\n",
    "* (Shape) TBD: Cells where the nucleus is outside 95% quantile to distance to center. (deformed cells?)\n",
    "* (Color) Cells that have atypical mean and std in their image channels.\n",
    "* (Position) Cells that are touching the edge of the image.\n",
    "* (Position) TBD: Cells where the nucleus is missing, or intersecting with the edge of the image.\n",
    "\n",
    "Outliers on the testing set:\n",
    "* (Position) TBD: Cells where the nucleus is missing, or intersecting with the edge of the image."
   ]
  },
  {
   "cell_type": "code",
   "execution_count": null,
   "metadata": {},
   "outputs": [],
   "source": [
    "import os\n",
    "import importlib\n",
    "\n",
    "import numpy\n",
    "import pandas\n",
    "import sklearn\n",
    "import matplotlib.pyplot as plt\n",
    "\n",
    "import cv2\n",
    "import skimage\n",
    "import pycocotools\n",
    "\n",
    "import json\n",
    "import ast\n",
    "\n",
    "import src.utils\n",
    "importlib.reload(src.utils)\n",
    "\n",
    "from tqdm import tqdm\n",
    "import multiprocessing, logging\n",
    "from joblib import Parallel, delayed"
   ]
  },
  {
   "cell_type": "code",
   "execution_count": null,
   "metadata": {},
   "outputs": [],
   "source": [
    "train = pandas.read_csv(\"./data/train_cells.csv\")\n",
    "train.head()"
   ]
  },
  {
   "cell_type": "markdown",
   "metadata": {},
   "source": [
    "Functions for parsing precomputed and compressed train and test dataset rles."
   ]
  },
  {
   "cell_type": "code",
   "execution_count": 23,
   "metadata": {},
   "outputs": [],
   "source": [
    "def get_rle_from_df(row):\n",
    "    string = row.RLEmask\n",
    "    h = row.ImageHeight\n",
    "    w = row.ImageWidth\n",
    "    rle = src.utils.decode_b64_string(string, h, w)\n",
    "    return rle\n",
    "    \n",
    "def get_mask_from_rle(rle):\n",
    "    mask = pycocotools._mask.decode([rle])[:,:,0]\n",
    "    return mask"
   ]
  },
  {
   "cell_type": "code",
   "execution_count": 24,
   "metadata": {},
   "outputs": [],
   "source": [
    "rles = train.apply(get_rle_from_df, axis=1)\n",
    "rles.head()"
   ]
  },
  {
   "cell_type": "code",
   "execution_count": 25,
   "metadata": {},
   "outputs": [
    {
     "data": {
      "text/plain": [
       "0    {'counts': b'dWTd1h0Wo12N2L6Bb0H2N2L6K9H2N2N4K...\n",
       "1    {'counts': b'd^d6c0\\\\o12N2L4D=M2N2L6WL1`VNl0]i...\n",
       "2    {'counts': b'ieZW11ko15Mh0ZO3M1O1O1O1O4LV1jN01...\n",
       "3    {'counts': b'dQea0l1Sn12N2L6jMjNmTNT2cj1nM[UNT...\n",
       "4    {'counts': b'TboU14lo10O200O6J00100N<UOb0N1O2N...\n",
       "dtype: object"
      ]
     },
     "execution_count": 25,
     "metadata": {},
     "output_type": "execute_result"
    }
   ],
   "source": [
    "rles.head()"
   ]
  },
  {
   "cell_type": "code",
   "execution_count": null,
   "metadata": {},
   "outputs": [],
   "source": [
    "masks = rles.apply(get_mask_from_rle)\n",
    "masks.head()"
   ]
  },
  {
   "cell_type": "markdown",
   "metadata": {},
   "source": [
    "### Generate Outlier Metrics\n",
    "Calculate the **bounding box**."
   ]
  },
  {
   "cell_type": "code",
   "execution_count": null,
   "metadata": {},
   "outputs": [],
   "source": [
    "def get_bbox_from_rle(rle):\n",
    "    \"\"\"x,y = bottom left!\"\"\"\n",
    "    bbox = pycocotools._mask.toBbox([encoded_mask])[0]\n",
    "    x, y, w, h = (int(l) for l in bbox)\n",
    "    return x, y, w, h"
   ]
  },
  {
   "cell_type": "markdown",
   "metadata": {},
   "source": [
    "Calculate the **minimum bounding rectangle** (rotated bounding box)."
   ]
  },
  {
   "cell_type": "code",
   "execution_count": null,
   "metadata": {},
   "outputs": [],
   "source": [
    "def get_mbr_from_mask(mask):\n",
    "    return x, y, l1, l2, phi"
   ]
  },
  {
   "cell_type": "code",
   "execution_count": null,
   "metadata": {},
   "outputs": [],
   "source": [
    "def get_hw_from_mbr(mbr):\n",
    "    return h, w"
   ]
  },
  {
   "cell_type": "code",
   "execution_count": null,
   "metadata": {},
   "outputs": [],
   "source": [
    "if not n_workers: n_workers=num_cores\n",
    "processed_list = Parallel(n_jobs=int(n_workers))(\n",
    "        delayed(segment_image)(i, segmentator, images_frame, test) for i in tqdm(images)\n",
    "    )"
   ]
  },
  {
   "cell_type": "code",
   "execution_count": null,
   "metadata": {},
   "outputs": [],
   "source": [
    "touch = train.touches.apply(ast.literal_eval)"
   ]
  }
 ],
 "metadata": {
  "kernelspec": {
   "display_name": "hpa-cpu-env",
   "language": "python",
   "name": "hpa-cpu-env"
  },
  "language_info": {
   "codemirror_mode": {
    "name": "ipython",
    "version": 3
   },
   "file_extension": ".py",
   "mimetype": "text/x-python",
   "name": "python",
   "nbconvert_exporter": "python",
   "pygments_lexer": "ipython3",
   "version": "3.8.5"
  }
 },
 "nbformat": 4,
 "nbformat_minor": 4
}
